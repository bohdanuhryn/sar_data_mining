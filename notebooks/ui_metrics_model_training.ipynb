{
 "cells": [
  {
   "cell_type": "code",
   "execution_count": null,
   "metadata": {},
   "outputs": [],
   "source": [
    "model = find_best_regression_algorithm(\n",
    "    df=data,\n",
    "    data_feature='time_start_sec',\n",
    "    target_feature='draw_time_avg'\n",
    ")"
   ]
  },
  {
   "cell_type": "code",
   "execution_count": null,
   "metadata": {},
   "outputs": [],
   "source": [
    "window_size = 10\n",
    "data['draw_time_avg_moving_avg'] = data['draw_time_avg'].rolling(window=window_size).mean()\n",
    "\n",
    "updated_data = data.dropna()\n",
    "\n",
    "model = find_best_regression_algorithm(\n",
    "    df=updated_data,\n",
    "    data_feature='time_start_sec',\n",
    "    target_feature='draw_time_avg_moving_avg'\n",
    ")"
   ]
  },
  {
   "cell_type": "code",
   "execution_count": null,
   "metadata": {},
   "outputs": [],
   "source": [
    "window_size = 100\n",
    "#data['draw_time_avg_moving_avg'] = data['draw_time_avg'].rolling(window=window_size).mean()\n",
    "\n",
    "#updated_data = data.dropna()\n",
    "\n",
    "model = find_best_regression_algorithm(\n",
    "    df=data,\n",
    "    data_feature='time_start_sec',\n",
    "    target_feature='launch_time'\n",
    ")"
   ]
  },
  {
   "cell_type": "code",
   "execution_count": null,
   "metadata": {},
   "outputs": [],
   "source": [
    "# @title Validate model on another dataset\n",
    "\n",
    "import pandas as pd\n",
    "\n",
    "validation_data = pd.read_csv('/content/drive/MyDrive/SAR_Research/Datasets/EXP_April_2021/Timeseries/Flutter_UI-Metrics_TimeSeries_UsageDelays_1.csv')\n",
    "\n",
    "validation_data = validation_data.drop(\n",
    "    columns=[\n",
    "        'time_end_sec',\n",
    "        'percentile_50_ms',\n",
    "        'percentile_90_ms',\n",
    "        'percentile_95_ms',\n",
    "        'percentile_99_ms'\n",
    "        ]\n",
    "    )\n",
    "\n",
    "# Обчислюємо ковзаюче середнє для стовпця 'value'\n",
    "window_size = 12\n",
    "validation_data['draw_time_avg_moving_avg'] = validation_data['draw_time_avg'].rolling(window=window_size).mean()\n",
    "\n",
    "validation_data = validation_data.dropna()\n",
    "\n",
    "forecast_aging(\n",
    "    model = model,\n",
    "    df = validation_data,\n",
    "    data_feature = 'time_start_sec',\n",
    "    target_feature = 'draw_time_avg_moving_avg'\n",
    ")"
   ]
  }
 ],
 "metadata": {
  "language_info": {
   "name": "python"
  }
 },
 "nbformat": 4,
 "nbformat_minor": 2
}
